{
 "cells": [
  {
   "cell_type": "code",
   "execution_count": 1,
   "id": "2f052739",
   "metadata": {},
   "outputs": [
    {
     "name": "stdout",
     "output_type": "stream",
     "text": [
      "Adding src path: c:\\Users\\Bauty-PC\\.git\\actividad2\\src\n"
     ]
    }
   ],
   "source": [
    "import sys \n",
    "import os\n",
    "\n",
    "src_path = os.path.abspath(\"../src\")\n",
    "print(f\"Adding src path: {src_path}\")\n",
    "sys.path.append(src_path)"
   ]
  },
  {
   "cell_type": "code",
   "execution_count": null,
   "id": "11db4c7b",
   "metadata": {},
   "outputs": [
    {
     "name": "stdout",
     "output_type": "stream",
     "text": [
      "--- Ronda 1 ---\n",
      "MVP(s) de la ronda: Shadow\n",
      "Jugador    Kills  Asistencias Muertes  MVPs  Puntos\n",
      "--------------------------------------------------------\n",
      "Shadow     2      1           1        1     6     \n",
      "Viper      1      2           1        0     4     \n",
      "Reaper     1      1           0        0     4     \n",
      "Blaze      1      0           0        0     3     \n",
      "Frost      0      1           0        0     1     \n",
      "\n",
      "\n",
      "--- Ronda 2 ---\n",
      "MVP(s) de la ronda: Frost\n",
      "Jugador    Kills  Asistencias Muertes  MVPs  Puntos\n",
      "--------------------------------------------------------\n",
      "Shadow     2      3           1        1     8     \n",
      "Blaze      3      0           1        0     8     \n",
      "Viper      2      3           1        0     8     \n",
      "Frost      2      2           1        1     7     \n",
      "Reaper     1      2           0        0     5     \n",
      "\n",
      "\n",
      "--- Ronda 3 ---\n",
      "MVP(s) de la ronda: Blaze\n",
      "Jugador    Kills  Asistencias Muertes  MVPs  Puntos\n",
      "--------------------------------------------------------\n",
      "Blaze      5      2           2        1     15    \n",
      "Shadow     3      3           1        1     11    \n",
      "Viper      3      4           2        0     11    \n",
      "Reaper     2      3           0        0     9     \n",
      "Frost      2      3           1        1     8     \n",
      "\n",
      "\n",
      "--- Ronda 4 ---\n",
      "MVP(s) de la ronda: Shadow\n",
      "Jugador    Kills  Asistencias Muertes  MVPs  Puntos\n",
      "--------------------------------------------------------\n",
      "Shadow     5      4           1        2     18    \n",
      "Blaze      6      2           3        1     17    \n",
      "Viper      3      6           2        0     13    \n",
      "Reaper     3      4           0        0     13    \n",
      "Frost      3      4           2        1     11    \n",
      "\n",
      "\n",
      "--- Ronda 5 ---\n",
      "MVP(s) de la ronda: Viper\n",
      "Jugador    Kills  Asistencias Muertes  MVPs  Puntos\n",
      "--------------------------------------------------------\n",
      "Shadow     6      6           2        2     22    \n",
      "Blaze      6      3           3        1     18    \n",
      "Viper      5      6           3        1     18    \n",
      "Reaper     4      5           1        0     16    \n",
      "Frost      4      5           2        1     15    \n",
      "\n",
      "\n"
     ]
    },
    {
     "data": {
      "text/plain": [
       "{'Shadow': {'kills': 6, 'assists': 6, 'deaths': 2, 'mvps': 2, 'puntos': 22},\n",
       " 'Blaze': {'kills': 6, 'assists': 3, 'deaths': 3, 'mvps': 1, 'puntos': 18},\n",
       " 'Viper': {'kills': 5, 'assists': 6, 'deaths': 3, 'mvps': 1, 'puntos': 18},\n",
       " 'Frost': {'kills': 4, 'assists': 5, 'deaths': 2, 'mvps': 1, 'puntos': 15},\n",
       " 'Reaper': {'kills': 4, 'assists': 5, 'deaths': 1, 'mvps': 0, 'puntos': 16}}"
      ]
     },
     "execution_count": 2,
     "metadata": {},
     "output_type": "execute_result"
    }
   ],
   "source": [
    "from mvp import calcular_puntaje, procesar_rondas\n",
    "\n",
    "rounds = [\n",
    "{\n",
    "'Shadow': {'kills': 2, 'assists': 1, 'deaths': True},\n",
    "'Blaze': {'kills': 1, 'assists': 0, 'deaths': False},\n",
    "'Viper': {'kills': 1, 'assists': 2, 'deaths': True},\n",
    "'Frost': {'kills': 0, 'assists': 1, 'deaths': False},\n",
    "'Reaper': {'kills': 1, 'assists': 1, 'deaths': False}\n",
    "},\n",
    "{\n",
    "'Shadow': {'kills': 0, 'assists': 2, 'deaths': False},\n",
    "'Blaze': {'kills': 2, 'assists': 0, 'deaths': True},\n",
    "'Viper': {'kills': 1, 'assists': 1, 'deaths': False},\n",
    "'Frost': {'kills': 2, 'assists': 1, 'deaths': True},\n",
    "'Reaper': {'kills': 0, 'assists': 1, 'deaths': False}\n",
    "},\n",
    "{\n",
    "'Shadow': {'kills': 1, 'assists': 0, 'deaths': False},\n",
    "'Blaze': {'kills': 2, 'assists': 2, 'deaths': True},\n",
    "'Viper': {'kills': 1, 'assists': 1, 'deaths': True},\n",
    "'Frost': {'kills': 0, 'assists': 1, 'deaths': False},\n",
    "'Reaper': {'kills': 1, 'assists': 1, 'deaths': False}\n",
    "},\n",
    "{\n",
    "'Shadow': {'kills': 2, 'assists': 1, 'deaths': False},\n",
    "'Blaze': {'kills': 1, 'assists': 0, 'deaths': True},\n",
    "'Viper': {'kills': 0, 'assists': 2, 'deaths': False},\n",
    "'Frost': {'kills': 1, 'assists': 1, 'deaths': True},\n",
    "'Reaper': {'kills': 1, 'assists': 1, 'deaths': False}\n",
    "},\n",
    "{\n",
    "'Shadow': {'kills': 1, 'assists': 2, 'deaths': True},\n",
    "'Blaze': {'kills': 0, 'assists': 1, 'deaths': False},\n",
    "'Viper': {'kills': 2, 'assists': 0, 'deaths': True},\n",
    "'Frost': {'kills': 1, 'assists': 1, 'deaths': False},\n",
    "'Reaper': {'kills': 1, 'assists': 1, 'deaths': True}\n",
    "}\n",
    "]\n",
    "\n",
    "procesar_rondas(rounds)\n",
    "print(\"fin del programa\")"
   ]
  }
 ],
 "metadata": {
  "kernelspec": {
   "display_name": "venv",
   "language": "python",
   "name": "python3"
  },
  "language_info": {
   "codemirror_mode": {
    "name": "ipython",
    "version": 3
   },
   "file_extension": ".py",
   "mimetype": "text/x-python",
   "name": "python",
   "nbconvert_exporter": "python",
   "pygments_lexer": "ipython3",
   "version": "3.12.9"
  }
 },
 "nbformat": 4,
 "nbformat_minor": 5
}
