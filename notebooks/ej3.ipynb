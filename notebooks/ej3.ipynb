{
 "cells": [
  {
   "cell_type": "code",
   "execution_count": 6,
   "metadata": {},
   "outputs": [
    {
     "name": "stdout",
     "output_type": "stream",
     "text": [
      "La palabra discord no se encuentra entre las reglas.\n"
     ]
    }
   ],
   "source": [
    "rules = \"\"\"Respeta a los demás. No se permiten insultos ni lenguaje\n",
    "ofensivo.\n",
    "Evita el spam. No publiques enlaces sospechosos o repetitivos.\n",
    "No compartas información personal.\n",
    "Usa los canales adecuados para cada tema.\n",
    "Sigue las instrucciones de los moderadores.\"\"\"\n",
    "\n",
    "palabra =input(\"ingrese una palabra a buscar: \")\n",
    "if palabra in rules:\n",
    "    print(\"La palabra\",(palabra), \"se encuentra entre las reglas.\")\n",
    "else:\n",
    "    print(\"La palabra\",(palabra), \"no se encuentra entre las reglas.\")"
   ]
  }
 ],
 "metadata": {
  "kernelspec": {
   "display_name": "venv",
   "language": "python",
   "name": "python3"
  },
  "language_info": {
   "codemirror_mode": {
    "name": "ipython",
    "version": 3
   },
   "file_extension": ".py",
   "mimetype": "text/x-python",
   "name": "python",
   "nbconvert_exporter": "python",
   "pygments_lexer": "ipython3",
   "version": "3.12.9"
  }
 },
 "nbformat": 4,
 "nbformat_minor": 2
}
